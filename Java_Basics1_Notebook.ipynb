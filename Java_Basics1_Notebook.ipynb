{
  "nbformat": 4,
  "nbformat_minor": 0,
  "metadata": {
    "colab": {
      "provenance": [],
      "private_outputs": true,
      "collapsed_sections": [
        "BPeoQCiJ-UPi",
        "QV4KoP9IkBoc",
        "NGWZ_P_IGLwG",
        "SLAkKww6GQel",
        "3bYo5dboGYTF",
        "T4ADPHgYGcil",
        "J8S0WH4FGfT9",
        "IvlQzp12F9AO",
        "Lo8XQtk8GEge",
        "ihKpgMW-GHFd"
      ]
    },
    "kernelspec": {
      "name": "java",
      "display_name": "java"
    }
  },
  "cells": [
    {
      "cell_type": "markdown",
      "source": [
        "## Java"
      ],
      "metadata": {
        "id": "BPeoQCiJ-UPi"
      }
    },
    {
      "cell_type": "code",
      "metadata": {
        "id": "DC4pJkyNfOF1"
      },
      "source": [
        "!apt update -q\n",
        "!apt-get install -q openjdk-11-jdk-headless\n",
        "!curl -L https://github.com/SpencerPark/IJava/releases/download/v1.3.0/ijava-1.3.0.zip -o ijava-kernel.zip\n",
        "!unzip -q ijava-kernel.zip -d ijava-kernel && cd ijava-kernel && python3 install.py --sys-prefix\n",
        "!jupyter kernelspec list"
      ],
      "execution_count": null,
      "outputs": []
    },
    {
      "cell_type": "markdown",
      "metadata": {
        "id": "QV4KoP9IkBoc",
        "jp-MarkdownHeadingCollapsed": true,
        "tags": []
      },
      "source": [
        "## Exercicis Java Basics 1"
      ]
    },
    {
      "cell_type": "code",
      "execution_count": null,
      "metadata": {
        "id": "PYERi1WDQywA"
      },
      "outputs": [],
      "source": [
        "String printBinary(String binary, int blockSize, String separator) {\n",
        "        List<String> result = new ArrayList<>();\n",
        "        int index = 0;\n",
        "        while (index < binary.length()) {\n",
        "            result.add(binary.substring(index, Math.min(index + blockSize, binary.length())));\n",
        "            index += blockSize;\n",
        "        }\n",
        "\n",
        "        return result.stream().collect(java.util.stream.Collectors.joining(separator));\n",
        "    }\n",
        "void intToBin(int input){\n",
        "    String result = Integer.toBinaryString(input);\n",
        "    String resultWithPadding = String.format(\"%32s\", result).replaceAll(\" \", \"0\");\n",
        "    System.out.println(printBinary(resultWithPadding, 4, \" \")); \n",
        "}"
      ]
    },
    {
      "cell_type": "markdown",
      "source": [
        "### Pregunta 1"
      ],
      "metadata": {
        "id": "NGWZ_P_IGLwG"
      }
    },
    {
      "cell_type": "code",
      "execution_count": null,
      "metadata": {
        "id": "B_Sy-8WqHhE_"
      },
      "outputs": [],
      "source": [
        "byte b0 = 122;\n",
        "byte b1 = 14;\n",
        "System.out.println(b0 + b1)"
      ]
    },
    {
      "cell_type": "markdown",
      "source": [
        "Obtenim la suma de les dos variables correctament, la dada que crea el notebook com a resultat és un tipus de número int."
      ],
      "metadata": {
        "id": "SS__qQUjFek_"
      }
    },
    {
      "cell_type": "markdown",
      "source": [
        "### Pregunta 2"
      ],
      "metadata": {
        "id": "SLAkKww6GQel"
      }
    },
    {
      "cell_type": "code",
      "execution_count": null,
      "metadata": {
        "id": "C9T0nKvvIPsK"
      },
      "outputs": [],
      "source": [
        "char c = 'a';\n",
        "int n = c;\n",
        "System.out.printf(\"%c%n%d%n\", c, n);"
      ]
    },
    {
      "cell_type": "markdown",
      "source": [
        "Ens dona aquest resultat ja que estem assignant a la variable n el valor de la variable c, en aquest cas el valor és 'a'. En el codi ASCII la lletra 'a' te com a valor el número 97 que és el número que esta assignant a la variable n."
      ],
      "metadata": {
        "id": "EjcmdYp5FjLY"
      }
    },
    {
      "cell_type": "code",
      "execution_count": null,
      "metadata": {
        "id": "_Awztp55NdF2"
      },
      "outputs": [],
      "source": [
        "char c = 'a';\n",
        "short s = c;\n",
        "System.out.printf(\"%c%n%d%n\", c, s);"
      ]
    },
    {
      "cell_type": "markdown",
      "source": [
        "En aquest cas ens dona error ja que te incompatibilitat de la conversió de tipus char a short."
      ],
      "metadata": {
        "id": "_88BgViiFnG-"
      }
    },
    {
      "cell_type": "markdown",
      "source": [
        "### Pregunta 3"
      ],
      "metadata": {
        "id": "3bYo5dboGYTF"
      }
    },
    {
      "cell_type": "code",
      "execution_count": null,
      "metadata": {
        "id": "58ucj1mXI_mm"
      },
      "outputs": [],
      "source": [
        "char c = 'a';\n",
        "short s = (short)c;\n",
        "System.out.printf(\"%c%n%d%n\", c, s);"
      ]
    },
    {
      "cell_type": "markdown",
      "source": [
        "El que estem fent és un casting, és a dir estem assegurant que el valor de aquesta variable sigui definida totalmant com a dada tipus short. El resultat que obtenim éS el resultat de la lleta en números per el sistem ASCII."
      ],
      "metadata": {
        "id": "R2ecP6hPFu9F"
      }
    },
    {
      "cell_type": "markdown",
      "source": [
        "### Pregunta 4"
      ],
      "metadata": {
        "id": "T4ADPHgYGcil"
      }
    },
    {
      "cell_type": "code",
      "execution_count": null,
      "metadata": {
        "id": "8gQdSNOy8sDJ"
      },
      "outputs": [],
      "source": [
        "short s0 = (short)32000;\n",
        "short s1 = (short)35000;\n",
        "System.out.printf(\"%d%n%d%n\", s0, s1);"
      ]
    },
    {
      "cell_type": "markdown",
      "source": [
        "Dona aquest resultat ja que el rang que te el tipus short no pot incluir aquest número per tant el notebook amb els bytes que hi ha ho fica"
      ],
      "metadata": {
        "id": "fTRXhYXxFxrm"
      }
    },
    {
      "cell_type": "markdown",
      "source": [
        "### Pregunta 5"
      ],
      "metadata": {
        "id": "J8S0WH4FGfT9"
      }
    },
    {
      "cell_type": "code",
      "execution_count": null,
      "metadata": {
        "id": "L9hHtMhx9omO"
      },
      "outputs": [],
      "source": [
        "var v = 5.0;\n",
        "var v0 = 5;\n",
        "System.out.printf(\"%1.1f%n%d%n\", v, v0)"
      ]
    },
    {
      "cell_type": "markdown",
      "source": [
        "El tipus de dada var és un tipus de variable que es automàtica, en aquest cas es detecta que v = tipus de dada flotant i v0 = tipus de dad int."
      ],
      "metadata": {
        "id": "-bgj_k0mF0ud"
      }
    },
    {
      "cell_type": "code",
      "execution_count": null,
      "metadata": {
        "id": "ba4XlRM--lc_"
      },
      "outputs": [],
      "source": [
        "var v = 5.0;\n",
        "var v0 = 5;\n",
        "var v1 = v + v0;\n",
        "System.out.printf(\"%1.2f + %d = %1.2f%n\", v, v0, v1)"
      ]
    },
    {
      "cell_type": "markdown",
      "source": [
        "La variable és tipus com flotant ja que hi ha una variable de la suma que és tipus float llavors ens dona el resultat amb coma flotant."
      ],
      "metadata": {
        "id": "IPGxsYN9F2_e"
      }
    },
    {
      "cell_type": "markdown",
      "source": [
        "### Pregunta 8"
      ],
      "metadata": {
        "id": "IvlQzp12F9AO"
      }
    },
    {
      "cell_type": "code",
      "execution_count": null,
      "metadata": {
        "id": "bBwbkmofDqaV"
      },
      "outputs": [],
      "source": [
        "char c = 'a';\n",
        "char c1 = 1;\n",
        "char c2 = c + c1;\n",
        "System.out.printf(\"%c%n\", c2 );"
      ]
    },
    {
      "cell_type": "markdown",
      "source": [
        "El que pasa com es veu a l'error és que no pot fer una correcta conversió de la dada int a char. Per conseguir que aquesta suma surti correctament hem de fer un casting per tal de fer que aquesta dada que consider int sigui char."
      ],
      "metadata": {
        "id": "8Uzpk1AwF6ng"
      }
    },
    {
      "cell_type": "code",
      "execution_count": null,
      "metadata": {
        "id": "ZAWr0GdHB8ab"
      },
      "outputs": [],
      "source": [
        "char c = 'a';\n",
        "char c1 = 1;\n",
        "char c2 = (char)(c + c1);\n",
        "System.out.printf(\"%c%n\", c2 );"
      ]
    },
    {
      "cell_type": "markdown",
      "source": [],
      "metadata": {
        "id": "bYhsBo6WGsKs"
      }
    },
    {
      "cell_type": "markdown",
      "source": [
        "### Pregunta 9"
      ],
      "metadata": {
        "id": "Lo8XQtk8GEge"
      }
    },
    {
      "cell_type": "code",
      "execution_count": null,
      "metadata": {
        "id": "of8DoouiF4AA"
      },
      "outputs": [],
      "source": [
        "var h = 4 * 4f + (4.0 +4);\n",
        "float f = h;\n",
        "System.out.printf(\"%f%n\", f)"
      ]
    },
    {
      "cell_type": "markdown",
      "source": [
        "Obtenim un problema de conversió de dades ja que el reslutat que obtenim és un tipus de dada double i no float. Cal fer un casting per tal de que ens doni el resultat de la operació:"
      ],
      "metadata": {
        "id": "nvPZJ4ntG7z9"
      }
    },
    {
      "cell_type": "code",
      "execution_count": null,
      "metadata": {
        "id": "P2kmORgEGBUd"
      },
      "outputs": [],
      "source": [
        "var h = (4 * 4f + (4.0 +4));\n",
        "float f = (float)h;\n",
        "System.out.printf(\"%1.2f%n\", f)"
      ]
    },
    {
      "cell_type": "markdown",
      "source": [
        "### Pregunta 10"
      ],
      "metadata": {
        "id": "ihKpgMW-GHFd"
      }
    },
    {
      "cell_type": "markdown",
      "source": [
        "En el primer cas obtenim el resultat true ja que estem dividint b2 que es 12 entre 3 que és igual a 4 que és el mateix número que b0."
      ],
      "metadata": {
        "id": "OnBWPshpG_zG"
      }
    },
    {
      "cell_type": "code",
      "execution_count": null,
      "metadata": {
        "id": "biXf0dzrJ344"
      },
      "outputs": [],
      "source": [
        "byte b0 = 4, b1 = -4, b2 = 12;\n",
        "boolean bol1 = b0 == b2 / 3;\n",
        "System.out.printf(\"Resultat boolean 1 = %b%n\", bol1)"
      ]
    },
    {
      "cell_type": "markdown",
      "source": [
        "En el sgeon cas obtenim un error ja que a la varibale bol2 estem fent una suma a dos tipus de dades booleanes sense cap signe de comparació per tant el resultat que surt en cas de que no fos un error és un número enter."
      ],
      "metadata": {
        "id": "Y1eiRVtDHDtN"
      }
    },
    {
      "cell_type": "code",
      "execution_count": null,
      "metadata": {
        "id": "7Ky8Pv9aK2Yu"
      },
      "outputs": [],
      "source": [
        "byte b0 = 4, b1 = -4, b2 = 12;\n",
        "boolean bol2 = b0 + b1;\n",
        "System.out.printf(\"Resultat boolean 2 = %b%n\", bol2)"
      ]
    },
    {
      "cell_type": "markdown",
      "source": [
        "En el tercer i últim cas obtenim el resultat false ja que estem sumant b0 que i b1 que dona com a resultat 0 i a la variable bol3 estem fent un comparació b0 més gran que b2 que te com a valor 12 ens dona el resultat false."
      ],
      "metadata": {
        "id": "yTYvLGOHHHnG"
      }
    },
    {
      "cell_type": "code",
      "execution_count": null,
      "metadata": {
        "id": "6FUQaqflLD0t"
      },
      "outputs": [],
      "source": [
        "byte b0 = 4, b1 = -4, b2 = 12;\n",
        "boolean bol3 = b0 + b1 > b2;\n",
        "System.out.printf(\"Resultat boolean 3 = %b%n\", bol3)"
      ]
    }
  ]
}